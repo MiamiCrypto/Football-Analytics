{
  "nbformat": 4,
  "nbformat_minor": 0,
  "metadata": {
    "colab": {
      "provenance": []
    },
    "kernelspec": {
      "name": "python3",
      "display_name": "Python 3"
    },
    "language_info": {
      "name": "python"
    }
  },
  "cells": [
    {
      "cell_type": "code",
      "execution_count": 10,
      "metadata": {
        "colab": {
          "base_uri": "https://localhost:8080/"
        },
        "id": "ncl7IyjV0h6n",
        "outputId": "816fa993-153c-4fd4-da74-034c4973d3da"
      },
      "outputs": [
        {
          "output_type": "stream",
          "name": "stdout",
          "text": [
            "Requirement already satisfied: nfl_data_py in /usr/local/lib/python3.10/dist-packages (0.3.1)\n",
            "Requirement already satisfied: pandas>1 in /usr/local/lib/python3.10/dist-packages (from nfl_data_py) (1.5.3)\n",
            "Requirement already satisfied: appdirs>1 in /usr/local/lib/python3.10/dist-packages (from nfl_data_py) (1.4.4)\n",
            "Requirement already satisfied: fastparquet>0.5 in /usr/local/lib/python3.10/dist-packages (from nfl_data_py) (2023.10.1)\n",
            "Requirement already satisfied: python-snappy>0.5 in /usr/local/lib/python3.10/dist-packages (from nfl_data_py) (0.6.1)\n",
            "Requirement already satisfied: numpy>=1.20.3 in /usr/local/lib/python3.10/dist-packages (from fastparquet>0.5->nfl_data_py) (1.23.5)\n",
            "Requirement already satisfied: cramjam>=2.3 in /usr/local/lib/python3.10/dist-packages (from fastparquet>0.5->nfl_data_py) (2.7.0)\n",
            "Requirement already satisfied: fsspec in /usr/local/lib/python3.10/dist-packages (from fastparquet>0.5->nfl_data_py) (2023.6.0)\n",
            "Requirement already satisfied: packaging in /usr/local/lib/python3.10/dist-packages (from fastparquet>0.5->nfl_data_py) (23.2)\n",
            "Requirement already satisfied: python-dateutil>=2.8.1 in /usr/local/lib/python3.10/dist-packages (from pandas>1->nfl_data_py) (2.8.2)\n",
            "Requirement already satisfied: pytz>=2020.1 in /usr/local/lib/python3.10/dist-packages (from pandas>1->nfl_data_py) (2023.3.post1)\n",
            "Requirement already satisfied: six>=1.5 in /usr/local/lib/python3.10/dist-packages (from python-dateutil>=2.8.1->pandas>1->nfl_data_py) (1.16.0)\n"
          ]
        }
      ],
      "source": [
        "##Python - Load packages\n",
        "!pip install nfl_data_py\n",
        "import pandas as pd\n",
        "import numpy as np\n",
        "import nfl_data_py as nfl"
      ]
    },
    {
      "cell_type": "code",
      "source": [
        "#Import NFL data for the year 2016-2022\n",
        "seasons = range(2016, 2022 + 1)\n",
        "pbp_py = nfl.import_pbp_data(seasons)"
      ],
      "metadata": {
        "colab": {
          "base_uri": "https://localhost:8080/"
        },
        "id": "0YK8rtqO1uCr",
        "outputId": "8159be03-7063-4bf0-a4af-904c44eddbb9"
      },
      "execution_count": 11,
      "outputs": [
        {
          "output_type": "stream",
          "name": "stdout",
          "text": [
            "2016 done.\n",
            "2017 done.\n",
            "2018 done.\n",
            "2019 done.\n",
            "2020 done.\n",
            "2021 done.\n",
            "2022 done.\n",
            "Downcasting floats.\n"
          ]
        }
      ]
    },
    {
      "cell_type": "code",
      "source": [
        "#Create criteria filter\n",
        "pbp_py_p = \\\n",
        "pbp_py\\\n",
        ".query(\"play_type == 'pass' & air_yards.notnull()\")\\\n",
        ".reset_index()\n"
      ],
      "metadata": {
        "id": "frfvYLRE4TkV"
      },
      "execution_count": 12,
      "outputs": []
    },
    {
      "cell_type": "code",
      "source": [
        "#Replace missing values\n",
        "pbp_py_p[\"pass_length_air_yards\"] = np.where(\n",
        "    pbp_py_p[\"air_yards\"] >= 20, \"long\", \"short\"\n",
        ")"
      ],
      "metadata": {
        "id": "uj21cb_j2qb3"
      },
      "execution_count": 17,
      "outputs": []
    },
    {
      "cell_type": "code",
      "source": [
        "#Examine basic number\n",
        "pbp_py_p[\"passing_yards\"]\\\n",
        ".describe()"
      ],
      "metadata": {
        "colab": {
          "base_uri": "https://localhost:8080/"
        },
        "id": "1VXfsu5d41VZ",
        "outputId": "6c4739a2-e046-46a2-e22e-e946782ebc5a"
      },
      "execution_count": 16,
      "outputs": [
        {
          "output_type": "execute_result",
          "data": {
            "text/plain": [
              "count    84463.000000\n",
              "mean        11.206387\n",
              "std         10.031235\n",
              "min        -20.000000\n",
              "25%          5.000000\n",
              "50%          9.000000\n",
              "75%         14.000000\n",
              "max         98.000000\n",
              "Name: passing_yards, dtype: float64"
            ]
          },
          "metadata": {},
          "execution_count": 16
        }
      ]
    },
    {
      "cell_type": "code",
      "source": [
        "#Filter out short passes\n",
        "pbp_py_p\\\n",
        ".query('pass_length_air_yards == \"short\"')['passing_yards']\\\n",
        ".describe()"
      ],
      "metadata": {
        "colab": {
          "base_uri": "https://localhost:8080/"
        },
        "id": "dRASQGPD5lhW",
        "outputId": "9e95a9b6-3614-4a68-f698-b1b1643e45fc"
      },
      "execution_count": 15,
      "outputs": [
        {
          "output_type": "execute_result",
          "data": {
            "text/plain": [
              "count    78893.000000\n",
              "mean         9.603868\n",
              "std          7.591037\n",
              "min        -20.000000\n",
              "25%          5.000000\n",
              "50%          8.000000\n",
              "75%         13.000000\n",
              "max         95.000000\n",
              "Name: passing_yards, dtype: float64"
            ]
          },
          "metadata": {},
          "execution_count": 15
        }
      ]
    },
    {
      "cell_type": "code",
      "source": [
        "#Filter out long passes\n",
        "pbp_py_p\\\n",
        ".query('pass_length_air_yards == \"long\"')['passing_yards']\\\n",
        ".describe()"
      ],
      "metadata": {
        "colab": {
          "base_uri": "https://localhost:8080/"
        },
        "id": "NJwKty8t7CyL",
        "outputId": "e2ee541c-96b8-4064-b168-be0f88aa318f"
      },
      "execution_count": 18,
      "outputs": [
        {
          "output_type": "execute_result",
          "data": {
            "text/plain": [
              "count    5570.000000\n",
              "mean       33.904308\n",
              "std        12.575818\n",
              "min        10.000000\n",
              "25%        24.250000\n",
              "50%        30.000000\n",
              "75%        40.000000\n",
              "max        98.000000\n",
              "Name: passing_yards, dtype: float64"
            ]
          },
          "metadata": {},
          "execution_count": 18
        }
      ]
    },
    {
      "cell_type": "code",
      "source": [
        "#Expected Points Added (EPA) Analysis - Short Passes\n",
        "pbp_py_p\\\n",
        ".query('pass_length_air_yards == \"short\"')['epa']\\\n",
        ".describe()"
      ],
      "metadata": {
        "colab": {
          "base_uri": "https://localhost:8080/"
        },
        "id": "azLBQXGe7Q15",
        "outputId": "f3ba5cce-1ad6-491c-ee07-2fa5f161f47f"
      },
      "execution_count": 19,
      "outputs": [
        {
          "output_type": "execute_result",
          "data": {
            "text/plain": [
              "count    116086.000000\n",
              "mean          0.119606\n",
              "std           1.426238\n",
              "min         -13.031219\n",
              "25%          -0.606135\n",
              "50%          -0.002100\n",
              "75%           0.959107\n",
              "max           8.241420\n",
              "Name: epa, dtype: float64"
            ]
          },
          "metadata": {},
          "execution_count": 19
        }
      ]
    },
    {
      "cell_type": "code",
      "source": [
        "\n",
        "#Expected Points Added (EPA) Analysis - Long Passes\n",
        "pbp_py_p\\\n",
        ".query('pass_length_air_yards == \"long\"')['passing_yards']\\\n",
        ".describe()\n"
      ],
      "metadata": {
        "colab": {
          "base_uri": "https://localhost:8080/"
        },
        "id": "DA2Q0H6s7za6",
        "outputId": "12b6331d-8fc5-406c-b474-c38101f64e43"
      },
      "execution_count": 20,
      "outputs": [
        {
          "output_type": "execute_result",
          "data": {
            "text/plain": [
              "count    5570.000000\n",
              "mean       33.904308\n",
              "std        12.575818\n",
              "min        10.000000\n",
              "25%        24.250000\n",
              "50%        30.000000\n",
              "75%        40.000000\n",
              "max        98.000000\n",
              "Name: passing_yards, dtype: float64"
            ]
          },
          "metadata": {},
          "execution_count": 20
        }
      ]
    },
    {
      "cell_type": "code",
      "source": [
        "#A histogram using Seaborn for passing_yards\n",
        "import seaborn as sns\n",
        "import matplotlib.pyplot as plt\n",
        "\n",
        "sns.displot(data=pbp_py, x=\"passing_yards\");\n",
        "plt.show()\n"
      ],
      "metadata": {
        "colab": {
          "base_uri": "https://localhost:8080/",
          "height": 506
        },
        "id": "xZD2pX1y8axl",
        "outputId": "5aa059bd-0774-4018-fd45-2d3ebcc90422"
      },
      "execution_count": 21,
      "outputs": [
        {
          "output_type": "display_data",
          "data": {
            "text/plain": [
              "<Figure size 500x500 with 1 Axes>"
            ],
            "image/png": "[encoded data removed]"
          },
          "metadata": {}
        }
      ]
    },
    {
      "cell_type": "code",
      "source": [
        "sns.set_theme(style=\"whitegrid\", palette=\"colorblind\")"
      ],
      "metadata": {
        "id": "hxMJUGIU9Nm4"
      },
      "execution_count": 23,
      "outputs": []
    },
    {
      "cell_type": "code",
      "source": [
        "#Filter out the short passes\n",
        "pbp_py_p_short = \\\n",
        "pbp_py_p\\\n",
        ".query('pass_length_air_yards == \"short\"')"
      ],
      "metadata": {
        "id": "uBZc-DIk9opg"
      },
      "execution_count": 24,
      "outputs": []
    },
    {
      "cell_type": "code",
      "source": [
        "#Plot, change labels, and show the output\n",
        "pbp_py_p_short = \\\n",
        "sns.displot(data=pbp_py_p_short,\n",
        "            binwidth=1,\n",
        "            x=\"passing_yards\");"
      ],
      "metadata": {
        "colab": {
          "base_uri": "https://localhost:8080/",
          "height": 501
        },
        "id": "WW9Fc38i99_m",
        "outputId": "8cd152f6-1664-4a4b-fe5e-73c3e6182ac3"
      },
      "execution_count": 25,
      "outputs": [
        {
          "output_type": "display_data",
          "data": {
            "text/plain": [
              "<Figure size 500x500 with 1 Axes>"
            ],
            "image/png": "[encoded data removed]"
          },
          "metadata": {}
        }
      ]
    },
    {
      "cell_type": "code",
      "source": [
        "#Plot, change labels, and show the output\n",
        "pass_boxplot = \\\n",
        "sns.boxplot(data=pbp_py_p,\n",
        "            x=\"pass_length_air_yards\",\n",
        "            y=\"passing_yards\");"
      ],
      "metadata": {
        "colab": {
          "base_uri": "https://localhost:8080/",
          "height": 458
        },
        "id": "vHlp8Wkv-lTd",
        "outputId": "e0aff769-489d-4974-fce5-e4aa40daf545"
      },
      "execution_count": 26,
      "outputs": [
        {
          "output_type": "display_data",
          "data": {
            "text/plain": [
              "<Figure size 640x480 with 1 Axes>"
            ],
            "image/png": "[encoded data removed]"
          },
          "metadata": {}
        }
      ]
    }
  ]
}